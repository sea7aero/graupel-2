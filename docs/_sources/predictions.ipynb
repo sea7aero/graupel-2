{
 "cells": [
  {
   "cell_type": "markdown",
   "id": "013f8ad2",
   "metadata": {},
   "source": [
    "# Flight Predictions"
   ]
  },
  {
   "cell_type": "markdown",
   "id": "a2ddf738",
   "metadata": {},
   "source": [
    "## Ascent Rate"
   ]
  },
  {
   "cell_type": "markdown",
   "id": "291f4f78",
   "metadata": {},
   "source": [
    "## Descent Rate"
   ]
  }
 ],
 "metadata": {
  "kernelspec": {
   "display_name": "Python 3 (ipykernel)",
   "language": "python",
   "name": "python3"
  },
  "language_info": {
   "codemirror_mode": {
    "name": "ipython",
    "version": 3
   },
   "file_extension": ".py",
   "mimetype": "text/x-python",
   "name": "python",
   "nbconvert_exporter": "python",
   "pygments_lexer": "ipython3",
   "version": "3.9.1"
  }
 },
 "nbformat": 4,
 "nbformat_minor": 5
}
