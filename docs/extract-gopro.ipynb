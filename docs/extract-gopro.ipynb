{
 "cells": [
  {
   "cell_type": "markdown",
   "id": "4a29f8ac",
   "metadata": {},
   "source": [
    "# Extract GoPro Telemetry data\n",
    "\n",
    "This file was just for experimenting with pulling out the GoPro telemetry data to see what it looks like."
   ]
  },
  {
   "cell_type": "code",
   "execution_count": 1,
   "id": "34d8a3d6",
   "metadata": {},
   "outputs": [],
   "source": [
    "import gpmf"
   ]
  },
  {
   "cell_type": "code",
   "execution_count": 6,
   "id": "155d3eb2",
   "metadata": {
    "scrolled": true
   },
   "outputs": [
    {
     "name": "stdout",
     "output_type": "stream",
     "text": [
      "\u001b[31mGL010093.LRV\u001b[m\u001b[m* \u001b[31mGL130093.LRV\u001b[m\u001b[m* \u001b[31mGX030093.MP4\u001b[m\u001b[m* \u001b[31mGX090093.MP4\u001b[m\u001b[m* \u001b[31mGX150093.MP4\u001b[m\u001b[m*\r\n",
      "\u001b[31mGL020093.LRV\u001b[m\u001b[m* \u001b[31mGL140093.LRV\u001b[m\u001b[m* \u001b[31mGX030093.THM\u001b[m\u001b[m* \u001b[31mGX090093.THM\u001b[m\u001b[m* \u001b[31mGX150093.THM\u001b[m\u001b[m*\r\n",
      "\u001b[31mGL030093.LRV\u001b[m\u001b[m* \u001b[31mGL150093.LRV\u001b[m\u001b[m* \u001b[31mGX040093.MP4\u001b[m\u001b[m* \u001b[31mGX100093.MP4\u001b[m\u001b[m* \u001b[31mGX160093.MP4\u001b[m\u001b[m*\r\n",
      "\u001b[31mGL040093.LRV\u001b[m\u001b[m* \u001b[31mGL160093.LRV\u001b[m\u001b[m* \u001b[31mGX040093.THM\u001b[m\u001b[m* \u001b[31mGX100093.THM\u001b[m\u001b[m* \u001b[31mGX160093.THM\u001b[m\u001b[m*\r\n",
      "\u001b[31mGL050093.LRV\u001b[m\u001b[m* \u001b[31mGL170093.LRV\u001b[m\u001b[m* \u001b[31mGX050093.MP4\u001b[m\u001b[m* \u001b[31mGX110093.MP4\u001b[m\u001b[m* \u001b[31mGX170093.MP4\u001b[m\u001b[m*\r\n",
      "\u001b[31mGL060093.LRV\u001b[m\u001b[m* \u001b[31mGL180093.LRV\u001b[m\u001b[m* \u001b[31mGX050093.THM\u001b[m\u001b[m* \u001b[31mGX110093.THM\u001b[m\u001b[m* \u001b[31mGX170093.THM\u001b[m\u001b[m*\r\n",
      "\u001b[31mGL070093.LRV\u001b[m\u001b[m* \u001b[31mGL190093.LRV\u001b[m\u001b[m* \u001b[31mGX060093.MP4\u001b[m\u001b[m* \u001b[31mGX120093.MP4\u001b[m\u001b[m* \u001b[31mGX180093.MP4\u001b[m\u001b[m*\r\n",
      "\u001b[31mGL080093.LRV\u001b[m\u001b[m* \u001b[31mGX010093.MP4\u001b[m\u001b[m* \u001b[31mGX060093.THM\u001b[m\u001b[m* \u001b[31mGX120093.THM\u001b[m\u001b[m* \u001b[31mGX180093.THM\u001b[m\u001b[m*\r\n",
      "\u001b[31mGL090093.LRV\u001b[m\u001b[m* \u001b[31mGX010093.THM\u001b[m\u001b[m* \u001b[31mGX070093.MP4\u001b[m\u001b[m* \u001b[31mGX130093.MP4\u001b[m\u001b[m* \u001b[31mGX190093.MP4\u001b[m\u001b[m*\r\n",
      "\u001b[31mGL100093.LRV\u001b[m\u001b[m* GX010093.bin  \u001b[31mGX070093.THM\u001b[m\u001b[m* \u001b[31mGX130093.THM\u001b[m\u001b[m* \u001b[31mGX190093.THM\u001b[m\u001b[m*\r\n",
      "\u001b[31mGL110093.LRV\u001b[m\u001b[m* \u001b[31mGX020093.MP4\u001b[m\u001b[m* \u001b[31mGX080093.MP4\u001b[m\u001b[m* \u001b[31mGX140093.MP4\u001b[m\u001b[m*\r\n",
      "\u001b[31mGL120093.LRV\u001b[m\u001b[m* \u001b[31mGX020093.THM\u001b[m\u001b[m* \u001b[31mGX080093.THM\u001b[m\u001b[m* \u001b[31mGX140093.THM\u001b[m\u001b[m*\r\n"
     ]
    }
   ],
   "source": [
    "gopro_dir = '/Volumes'"
   ]
  },
  {
   "cell_type": "code",
   "execution_count": 2,
   "id": "4a0b3481",
   "metadata": {},
   "outputs": [],
   "source": [
    "import types\n",
    "\n",
    "def display_klv(klv, indent=0):\n",
    "    foo.add(klv.key)\n",
    "    if isinstance(klv.value, types.GeneratorType):\n",
    "        for child in klv.value.__iter__():\n",
    "            display_klv(child, indent+1)\n",
    "    else:\n",
    "        print((\" \" * indent) + f\"{klv.key}: {klv.value}\")\n",
    "\n",
    "def parse_telemetry(file):\n",
    "    with open(file, 'rb') as file:\n",
    "        #stream = gpmf.io.extract_gpmf_stream(file)\n",
    "        stream = file.read()\n",
    "        for klv in gpmf.parse.iter_klv(stream):\n",
    "            display_klv(klv)\n",
    "        \n",
    "# parse_telemetry('../Graupel-2/DCIM/100GOPRO/GX010093.bin')\n",
    "        "
   ]
  }
 ],
 "metadata": {
  "kernelspec": {
   "display_name": "Python 3 (ipykernel)",
   "language": "python",
   "name": "python3"
  },
  "language_info": {
   "codemirror_mode": {
    "name": "ipython",
    "version": 3
   },
   "file_extension": ".py",
   "mimetype": "text/x-python",
   "name": "python",
   "nbconvert_exporter": "python",
   "pygments_lexer": "ipython3",
   "version": "3.9.7"
  }
 },
 "nbformat": 4,
 "nbformat_minor": 5
}
